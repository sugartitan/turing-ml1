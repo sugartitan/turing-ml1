{
 "cells": [
  {
   "cell_type": "markdown",
   "id": "d6ec3c55-9e42-43a2-995a-55d2b4e7bbfc",
   "metadata": {},
   "source": [
    "# Module 3: Machine Learning"
   ]
  },
  {
   "cell_type": "markdown",
   "id": "15ae075f-0813-40ac-a417-a3c07fd5e275",
   "metadata": {},
   "source": [
    "## Sprint 1: Supervised Machine Learning Fundamentals"
   ]
  },
  {
   "cell_type": "markdown",
   "id": "68b9ec0d-f5b0-4c19-b011-4dd86c549517",
   "metadata": {},
   "source": [
    "## Part 5: Travel Insurance Prediction"
   ]
  },
  {
   "cell_type": "markdown",
   "id": "bd1bb05c-fc34-4d72-bbb7-21ebdbab853c",
   "metadata": {},
   "source": [
    "## About this Part\n\nCongrats!\nYou have reached the last Part of this Sprint.\nIn this Part, you will put what you learned during this and the previous Sprints into practice.\nAs the final assignment of this Sprint, you will analyse the Travel Insurance Prediction dataset.\nYou will have to apply all that you have learned about Machine Learning to complete this task.\nOur expectation is that you'll use your own judgement how to perform the analysis and how to select the most important avenues of modeling, statistical testing, and exploration.\nYou'll have to iteratively try to find patterns in the data, raise hypotheses and use your data analysis skills to get answers.\n\nP.S. we don't expect this project to be perfect - you will continue to improve your skills and there will be many projects for you to apply your newly gained skills in the future.\nFor now just use what you have learned and try your best!\n\n## Objectives for this Part\n\n- Practice working with CSV files.\n- Practice performing EDA.\n- Practice applying statistical inference procedures.\n- Practice using linear machine learning models.\n- Practice visualizing data with Matplotlib & Seaborn.\n- Practice reading data, performing queries and filtering data using SQL and Pandas.\n\n## Requirements\n\n- Download the data from [Travel Insurance Prediction Data](https://www.kaggle.com/tejashvi14/travel-insurance-prediction-data).\n- Perform exploratory data analysis. This should include creating statistical summaries and charts, testing for anomalies, checking for correlations and other relations between variables, and other EDA elements.\n- Perform statistical inference. This should include defining the target population, forming multiple statistical hypotheses and constructing confidence intervals, setting the significance levels, conducting z or t-tests for these hypotheses.\n- Apply various machine learning models to predict the TravelInsurance column using the other features. This should include hyperparameter tuning, model ensembling, the analysis of model selection, and other methods.\n- Provide clear explanations in your notebook. Your explanations should inform the reader what you are trying to achieve, what results did you get, and what these results mean.\n- Provide suggestions about how your analysis can be improved.\n\n## Evaluation Criteria\n\n- Adherence to the requirements. How well did you meet the requirements?\n- Depth of your analysis. Did you just skim the surface or did you explored the dataset in depth?\n- Model's performance. How well did your model perform the predictions?\n- Visualization quality. Did you use charts effectively to visualize patterns in the data? Are your visualizations properly labeled? Did you use colors effectively? Did you adhere to the principle of proportional ink?\n- Code quality. Was your code well-structured? Did you use the appropriate levels of abstraction? Did you remove commented out and unused code? Did you adhere to the PEP8?\n- Code performance. Did you use the suitable algorithms and data structures to solve the problems?\n\n## Correction\n\nDuring your project correction, you should present it as if talking to a technical team lead and a senior co-worker working in your team.\nYou can assume that they will have strong data science and software engineering skills - they will understand technical jargon, they are expected to notice things that could have been done better, ask about the choices you've made (especially if you've made some questionable choices).\nIn addition, be careful not to spend your time explaining trivial concepts or code snippets that are simple - your best bet is to focus your presentation on the more difficult portions of your code.\n\nDuring a correction, you may get asked questions that test your understanding of covered topics.\n\n- How does hyperparameter tuning work? Why do we use hyperparameter tuning?\n- How are random forests trained and used for inference? What are the most important hyperparameters for random forests?\n- What are SVMs? What are the most important hyperparameters for SVMs?\n- How would you construct a preprocessing pipeline for a random forest model?\n"
   ]
  },
  {
   "cell_type": "markdown",
   "id": "fcd93d3c-db83-48a3-b251-fbfc6730dd17",
   "metadata": {},
   "source": [
    "## General Correction Guidelines\n\nFor an in-depth explanation about how corrections work at Turing College, please read [this doc](https://turingcollege.atlassian.net/wiki/spaces/DLG/pages/537395951/Peer+expert+reviews+corrections).\n"
   ]
  }
 ],
 "metadata": {
  "kernelspec": {
   "display_name": "Python 3",
   "language": "python",
   "name": "python3"
  },
  "language_info": {
   "codemirror_mode": {
    "name": "ipython",
    "version": 3
   },
   "file_extension": ".py",
   "mimetype": "text/x-python",
   "name": "python",
   "nbconvert_exporter": "python",
   "pygments_lexer": "ipython3",
   "version": "3.9.5"
  }
 },
 "nbformat": 4,
 "nbformat_minor": 5
}
